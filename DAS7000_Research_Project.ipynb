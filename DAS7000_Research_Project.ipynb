{
  "nbformat": 4,
  "nbformat_minor": 0,
  "metadata": {
    "colab": {
      "provenance": [],
      "authorship_tag": "ABX9TyOQIEmVB6eVYiIwsKgVACE1",
      "include_colab_link": true
    },
    "kernelspec": {
      "name": "python3",
      "display_name": "Python 3"
    },
    "language_info": {
      "name": "python"
    }
  },
  "cells": [
    {
      "cell_type": "markdown",
      "metadata": {
        "id": "view-in-github",
        "colab_type": "text"
      },
      "source": [
        "<a href=\"https://colab.research.google.com/github/cntrvsy/google-colab/blob/main/DAS7000_Research_Project.ipynb\" target=\"_parent\"><img src=\"https://colab.research.google.com/assets/colab-badge.svg\" alt=\"Open In Colab\"/></a>"
      ]
    },
    {
      "cell_type": "code",
      "execution_count": null,
      "metadata": {
        "id": "Y0FH-VtBv05n"
      },
      "outputs": [],
      "source": []
    },
    {
      "cell_type": "markdown",
      "source": [
        "#READ ME\n",
        "- This for a my Research Project, ill be using a [Motor Vehicle Collisions Crashes](https://catalog.data.gov/dataset/motor-vehicle-collisions-crashes) under the assumption that i will be providing key insights to a fictional car insurace company in New York.\n",
        "\n",
        "##tools\n",
        "- Google Colab (python)"
      ],
      "metadata": {
        "id": "rNQQY2ntwVkF"
      }
    }
  ]
}